{
 "cells": [
  {
   "cell_type": "code",
   "execution_count": 1,
   "metadata": {},
   "outputs": [],
   "source": [
    "import os"
   ]
  },
  {
   "cell_type": "code",
   "execution_count": 16,
   "metadata": {
    "tags": [
     "outputPrepend",
     "outputPrepend",
     "outputPrepend",
     "outputPrepend",
     "outputPrepend"
    ]
   },
   "outputs": [
    {
     "output_type": "stream",
     "name": "stdout",
     "text": "第0次循环\n./\n['.git', '.vscode', 'codeV5.01']\n['csv2npy copy.py', 'Csv2Npy.py', 'README.md', 'test.ipynb']\n\n\n完成\n"
    }
   ],
   "source": [
    "i = 0\n",
    "for root, dirs, files in os.walk('./', topdown=True):\n",
    "    print(f\"第{i}次循环\")\n",
    "    print(root)\n",
    "    print(dirs)\n",
    "    print(files)\n",
    "    print('\\n')\n",
    "    break\n",
    "print('完成')"
   ]
  },
  {
   "cell_type": "code",
   "execution_count": 20,
   "metadata": {},
   "outputs": [
    {
     "output_type": "stream",
     "name": "stdout",
     "text": "['0.csv', '1.csv', '2.csv', '3.csv', '4.csv', '5.csv', '6.csv', '7.csv', '8.csv', '9.csv', '10.csv', '11.csv', '12.csv', '13.csv', '14.csv', '15.csv', '16.csv', '17.csv', '18.csv', '19.csv', '20.csv', '21.csv', '22.csv', '23.csv', '24.csv', '25.csv', '26.csv', '27.csv', '28.csv', '29.csv', '30.csv', '31.csv', '32.csv', '33.csv', '34.csv', '35.csv', '36.csv', '37.csv', '38.csv', '39.csv', '40.csv', '41.csv', '42.csv', '43.csv', '44.csv', '45.csv', '46.csv', '47.csv', '48.csv', '49.csv', '50.csv', '51.csv', '52.csv', '53.csv', '54.csv', '55.csv', '56.csv', '57.csv', '58.csv', '59.csv', '60.csv', '61.csv', '62.csv', '63.csv', '64.csv', '65.csv', '66.csv', '67.csv', '68.csv', '69.csv', '70.csv', '71.csv', '72.csv']\n"
    }
   ],
   "source": [
    "fl = os.listdir('F:\\ArcGIS\\Flood\\yodogawa\\CasesData\\case2_10min\\waterdepth')\n",
    "fl.sort(key=lambda x:int(x.split('.')[0]))\n",
    "print(fl)"
   ]
  },
  {
   "cell_type": "code",
   "execution_count": 21,
   "metadata": {},
   "outputs": [],
   "source": [
    "import numpy as np"
   ]
  },
  {
   "cell_type": "code",
   "execution_count": 30,
   "metadata": {},
   "outputs": [],
   "source": [
    "a = np.array([[1,2],[3,4]])\n",
    "b = np.array([[5,6],[7,8]])"
   ]
  },
  {
   "cell_type": "code",
   "execution_count": 33,
   "metadata": {},
   "outputs": [],
   "source": [
    "c = [a,b,b]\n",
    "d = np.array(c)"
   ]
  },
  {
   "cell_type": "code",
   "execution_count": 34,
   "metadata": {},
   "outputs": [
    {
     "output_type": "execute_result",
     "data": {
      "text/plain": "(3, 2, 2)"
     },
     "metadata": {},
     "execution_count": 34
    }
   ],
   "source": [
    "d.shape"
   ]
  },
  {
   "cell_type": "code",
   "execution_count": 36,
   "metadata": {},
   "outputs": [],
   "source": [
    "data  = np.load(r\"F:\\ArcGIS\\Flood\\yodogawa\\NpyData\\91.npy\")"
   ]
  },
  {
   "cell_type": "code",
   "execution_count": 43,
   "metadata": {},
   "outputs": [],
   "source": [
    "for i in range(3):\n",
    "    np.savetxt(f\"{i}.csv\",data[5,i,:,:],fmt='%.6f',delimiter=\",\")"
   ]
  },
  {
   "cell_type": "code",
   "execution_count": 1,
   "metadata": {},
   "outputs": [],
   "source": [
    "import numpy as np \n",
    "import pandas as pd "
   ]
  },
  {
   "cell_type": "code",
   "execution_count": 3,
   "metadata": {},
   "outputs": [
    {
     "output_type": "execute_result",
     "data": {
      "text/plain": "array([ 0,  1,  2,  3,  4,  5,  6,  7,  8,  9, 10, 11, 12])"
     },
     "metadata": {},
     "execution_count": 3
    }
   ],
   "source": [
    "raw = np.linspace(0,12,13,dtype = int)\n",
    "raw"
   ]
  },
  {
   "cell_type": "code",
   "execution_count": 67,
   "metadata": {},
   "outputs": [],
   "source": [
    "dic = pd.DataFrame()\n",
    "for i in range(4):\n",
    "    dic[f\"t{i}\"] = raw.copy()\n",
    "    dic[f\"t{i}\"] = dic[f\"t{i}\"].shift(-i)\n",
    "    if i % 2 == 0:\n",
    "        dic[f\"t{i}_\"] = dic[f\"t{i}\"]"
   ]
  },
  {
   "cell_type": "code",
   "execution_count": 69,
   "metadata": {},
   "outputs": [
    {
     "output_type": "execute_result",
     "data": {
      "text/plain": "True"
     },
     "metadata": {},
     "execution_count": 69
    }
   ],
   "source": [
    "1 != 2"
   ]
  },
  {
   "cell_type": "code",
   "execution_count": 61,
   "metadata": {},
   "outputs": [],
   "source": [
    "dic = dic.dropna()"
   ]
  },
  {
   "cell_type": "code",
   "execution_count": 62,
   "metadata": {},
   "outputs": [],
   "source": [
    "dic = dic.astype(int)"
   ]
  },
  {
   "cell_type": "code",
   "execution_count": 63,
   "metadata": {},
   "outputs": [
    {
     "output_type": "execute_result",
     "data": {
      "text/plain": "array([[ 0,  0,  1,  2,  2,  4,  3,  6],\n       [ 1,  1,  2,  3,  3,  5,  4,  7],\n       [ 2,  2,  3,  4,  4,  6,  5,  8],\n       [ 3,  3,  4,  5,  5,  7,  6,  9],\n       [ 4,  4,  5,  6,  6,  8,  7, 10],\n       [ 5,  5,  6,  7,  7,  9,  8, 11],\n       [ 6,  6,  7,  8,  8, 10,  9, 12]])"
     },
     "metadata": {},
     "execution_count": 63
    }
   ],
   "source": [
    "dic.to_numpy()"
   ]
  },
  {
   "cell_type": "code",
   "execution_count": 51,
   "metadata": {},
   "outputs": [],
   "source": [
    "a = [1,2,3,4]\n",
    "b = ['a','b','c','d']"
   ]
  },
  {
   "cell_type": "code",
   "execution_count": 52,
   "metadata": {},
   "outputs": [
    {
     "output_type": "stream",
     "name": "stdout",
     "text": "id 0: name 1 , path a\nid 1: name 2 , path b\nid 2: name 3 , path c\nid 3: name 4 , path d\n"
    }
   ],
   "source": [
    "for id, (case_name, casepath) in enumerate(zip(a,b)):\n",
    "    print(f\"id {id}: name {case_name} , path {casepath}\")"
   ]
  },
  {
   "cell_type": "code",
   "execution_count": 55,
   "metadata": {},
   "outputs": [],
   "source": [
    "import os\n",
    "INPUT_FOLDER = '../NpyData/'\n",
    "inflow_Dic = np.load(os.path.join(INPUT_FOLDER,'inflow.npy'),allow_pickle=True) .item()"
   ]
  },
  {
   "cell_type": "code",
   "execution_count": 59,
   "metadata": {},
   "outputs": [
    {
     "output_type": "execute_result",
     "data": {
      "text/plain": "dict"
     },
     "metadata": {},
     "execution_count": 59
    }
   ],
   "source": [
    "type(inflow_Dic)"
   ]
  },
  {
   "cell_type": "code",
   "execution_count": null,
   "metadata": {},
   "outputs": [],
   "source": []
  }
 ],
 "metadata": {
  "language_info": {
   "codemirror_mode": {
    "name": "ipython",
    "version": 3
   },
   "file_extension": ".py",
   "mimetype": "text/x-python",
   "name": "python",
   "nbconvert_exporter": "python",
   "pygments_lexer": "ipython3",
   "version": "3.7.6-final"
  },
  "orig_nbformat": 2,
  "kernelspec": {
   "name": "python37664bitpytorchcondaf146bcb065ad47c49cbbeb41d43dfb81",
   "display_name": "Python 3.7.6 64-bit ('pytorch': conda)"
  }
 },
 "nbformat": 4,
 "nbformat_minor": 2
}